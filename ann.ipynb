{
 "metadata": {
  "language_info": {
   "codemirror_mode": {
    "name": "ipython",
    "version": 3
   },
   "file_extension": ".py",
   "mimetype": "text/x-python",
   "name": "python",
   "nbconvert_exporter": "python",
   "pygments_lexer": "ipython3",
   "version": "3.8.6"
  },
  "orig_nbformat": 2,
  "kernelspec": {
   "name": "python386jvsc74a57bd0de0691b9b4162a018d9cf464d16e088981b9bd9cf8e3a46dde4c669df41bd453",
   "display_name": "Python 3.8.6 64-bit"
  },
  "metadata": {
   "interpreter": {
    "hash": "de0691b9b4162a018d9cf464d16e088981b9bd9cf8e3a46dde4c669df41bd453"
   }
  }
 },
 "nbformat": 4,
 "nbformat_minor": 2,
 "cells": [
  {
   "cell_type": "code",
   "execution_count": 1,
   "metadata": {},
   "outputs": [],
   "source": [
    "from skimage.feature import hog\n",
    "from skimage.io import imread\n",
    "from skimage.transform import rescale\n",
    "import skimage\n",
    "\n",
    "from sklearn.preprocessing import StandardScaler\n",
    "from sklearn.base import BaseEstimator, TransformerMixin\n",
    "from sklearn.metrics import confusion_matrix, accuracy_score"
   ]
  },
  {
   "cell_type": "code",
   "execution_count": 2,
   "metadata": {},
   "outputs": [
    {
     "output_type": "stream",
     "name": "stdout",
     "text": [
      "2307\n"
     ]
    }
   ],
   "source": [
    "import numpy as np\n",
    "import pandas as pd\n",
    "import tensorflow as tf\n",
    "import random\n",
    "import cv2\n",
    "import os\n",
    "import glob\n",
    "\n",
    "X = []\n",
    "y = []\n",
    "\n",
    "load_images = [f for f in glob.glob(r'E:\\ML\\Gender Detector\\dataset' + \"/**/*\", recursive=True) if not os.path.isdir(f)]\n",
    "random.shuffle(load_images)\n",
    "\n",
    "print(len(load_images))\n",
    "for img in load_images:\n",
    "    image = cv2.imread(img)\n",
    "    image = cv2.resize(image, (64,64))\n",
    "    image = tf.keras.preprocessing.image.img_to_array(image)\n",
    "    # image = np.expand_dims(image, axis=0)\n",
    "    X.append(image)\n",
    "    typ = img.split(os.path.sep)[-2]\n",
    "    if typ == \"woman\":\n",
    "        typ = 0\n",
    "    else:\n",
    "        typ = 1  \n",
    "    y.append([typ])"
   ]
  },
  {
   "cell_type": "code",
   "execution_count": 3,
   "metadata": {
    "tags": []
   },
   "outputs": [
    {
     "output_type": "stream",
     "name": "stdout",
     "text": [
      "(2307, 64, 64, 3)\n(2307, 1)\n"
     ]
    }
   ],
   "source": [
    "X = np.array(X,dtype=\"float\") / 255.0\n",
    "y = np.array(y)\n",
    "print(X.shape)\n",
    "print(y.shape)"
   ]
  },
  {
   "cell_type": "code",
   "execution_count": 4,
   "metadata": {},
   "outputs": [],
   "source": [
    "from sklearn.model_selection import train_test_split\n",
    "X_train, X_test, y_train, y_test = train_test_split(X, y, test_size = 0.2, random_state = 0)"
   ]
  },
  {
   "cell_type": "code",
   "execution_count": 5,
   "metadata": {},
   "outputs": [
    {
     "output_type": "stream",
     "name": "stdout",
     "text": [
      "(462, 64, 64, 3)\n"
     ]
    }
   ],
   "source": [
    "print(X_test.shape)"
   ]
  },
  {
   "cell_type": "code",
   "execution_count": 6,
   "metadata": {},
   "outputs": [],
   "source": [
    "class RGB_to_Gray(BaseEstimator, TransformerMixin):\n",
    "    def __init__(self):\n",
    "        pass\n",
    "\n",
    "    def fit(self, X, y=None):\n",
    "        return self\n",
    "\n",
    "    def transform(self, X, y=None):\n",
    "        return np.array([skimage.color.rgb2gray(img) for img in X])\n",
    " \n",
    "class Hogger(BaseEstimator, TransformerMixin):\n",
    "    def __init__(self, y=None, orientations=9, pixels_per_cell=(8, 8), cells_per_block=(3, 3), block_norm='L2-Hys'):\n",
    "        self.y = y\n",
    "        self.orientations = orientations\n",
    "        self.pixels_per_cell = pixels_per_cell\n",
    "        self.cells_per_block = cells_per_block\n",
    "        self.block_norm = block_norm\n",
    "\n",
    "    def fit(self, X, y=None):\n",
    "        return self\n",
    "\n",
    "    def transform(self, X, y=None):\n",
    "\n",
    "        def local_hog(X):\n",
    "            return hog(X, orientations=self.orientations, pixels_per_cell=self.pixels_per_cell,\n",
    "                       cells_per_block=self.cells_per_block, block_norm=self.block_norm)\n",
    "        return np.array([local_hog(img) for img in X])\n"
   ]
  },
  {
   "cell_type": "code",
   "execution_count": 7,
   "metadata": {},
   "outputs": [],
   "source": [
    "grayer = RGB_to_Gray()\n",
    "hoger = Hogger(pixels_per_cell=(8, 8),cells_per_block=(2,2),orientations=9,block_norm='L2-Hys')\n",
    "scaler = StandardScaler()\n",
    " \n",
    "X_train = grayer.fit_transform(X_train)\n",
    "X_train = hoger.fit_transform(X_train)\n",
    "X_train = scaler.fit_transform(X_train)\n",
    "\n",
    "X_test=grayer.transform(X_test)\n",
    "X_test=hoger.transform(X_test)\n",
    "X_test = scaler.transform(X_test)"
   ]
  },
  {
   "cell_type": "code",
   "execution_count": 8,
   "metadata": {},
   "outputs": [],
   "source": [
    "ann = tf.keras.models.Sequential()"
   ]
  },
  {
   "cell_type": "code",
   "execution_count": 9,
   "metadata": {},
   "outputs": [],
   "source": [
    "ann.add(tf.keras.layers.Dense(units=128, activation='relu'))"
   ]
  },
  {
   "cell_type": "code",
   "execution_count": 10,
   "metadata": {},
   "outputs": [],
   "source": [
    "ann.add(tf.keras.layers.Dense(units=128, activation='relu'))"
   ]
  },
  {
   "cell_type": "code",
   "execution_count": 11,
   "metadata": {},
   "outputs": [],
   "source": [
    "ann.add(tf.keras.layers.Dense(units=128, activation='relu'))"
   ]
  },
  {
   "cell_type": "code",
   "execution_count": 12,
   "metadata": {},
   "outputs": [],
   "source": [
    "ann.add(tf.keras.layers.Dense(units=128, activation='relu'))"
   ]
  },
  {
   "cell_type": "code",
   "execution_count": 13,
   "metadata": {},
   "outputs": [],
   "source": [
    "ann.add(tf.keras.layers.Dense(units=128, activation='relu'))"
   ]
  },
  {
   "cell_type": "code",
   "execution_count": 14,
   "metadata": {},
   "outputs": [],
   "source": [
    "ann.add(tf.keras.layers.Dense(units=2, activation='sigmoid'))"
   ]
  },
  {
   "cell_type": "code",
   "execution_count": 15,
   "metadata": {},
   "outputs": [],
   "source": [
    "ann.compile(optimizer = 'adam', loss = 'binary_crossentropy', metrics = ['accuracy'])"
   ]
  },
  {
   "cell_type": "code",
   "execution_count": 16,
   "metadata": {},
   "outputs": [
    {
     "output_type": "stream",
     "name": "stdout",
     "text": [
      "Epoch 1/100\n",
      "58/58 [==============================] - 1s 2ms/step - loss: 0.4513 - accuracy: 0.7589\n",
      "Epoch 2/100\n",
      "58/58 [==============================] - 0s 2ms/step - loss: 0.1017 - accuracy: 0.9630\n",
      "Epoch 3/100\n",
      "58/58 [==============================] - 0s 2ms/step - loss: 0.0462 - accuracy: 0.9852\n",
      "Epoch 4/100\n",
      "58/58 [==============================] - 0s 2ms/step - loss: 0.0356 - accuracy: 0.9883\n",
      "Epoch 5/100\n",
      "58/58 [==============================] - 0s 2ms/step - loss: 0.0114 - accuracy: 0.9959\n",
      "Epoch 6/100\n",
      "58/58 [==============================] - 0s 2ms/step - loss: 0.0210 - accuracy: 0.9955\n",
      "Epoch 7/100\n",
      "58/58 [==============================] - 0s 2ms/step - loss: 0.0062 - accuracy: 0.9975\n",
      "Epoch 8/100\n",
      "58/58 [==============================] - 0s 2ms/step - loss: 0.0133 - accuracy: 0.9926\n",
      "Epoch 9/100\n",
      "58/58 [==============================] - 0s 2ms/step - loss: 0.0511 - accuracy: 0.9859\n",
      "Epoch 10/100\n",
      "58/58 [==============================] - 0s 2ms/step - loss: 0.0063 - accuracy: 0.9980\n",
      "Epoch 11/100\n",
      "58/58 [==============================] - 0s 2ms/step - loss: 0.0189 - accuracy: 0.9959\n",
      "Epoch 12/100\n",
      "58/58 [==============================] - 0s 2ms/step - loss: 0.0014 - accuracy: 0.9998\n",
      "Epoch 13/100\n",
      "58/58 [==============================] - 0s 2ms/step - loss: 0.0012 - accuracy: 0.9998\n",
      "Epoch 14/100\n",
      "58/58 [==============================] - 0s 2ms/step - loss: 5.4640e-04 - accuracy: 0.9994\n",
      "Epoch 15/100\n",
      "58/58 [==============================] - 0s 2ms/step - loss: 9.4122e-04 - accuracy: 0.9997\n",
      "Epoch 16/100\n",
      "58/58 [==============================] - 0s 2ms/step - loss: 7.7837e-04 - accuracy: 0.9997\n",
      "Epoch 17/100\n",
      "58/58 [==============================] - 0s 2ms/step - loss: 0.0015 - accuracy: 0.9980\n",
      "Epoch 18/100\n",
      "58/58 [==============================] - 0s 2ms/step - loss: 0.0019 - accuracy: 0.9975\n",
      "Epoch 19/100\n",
      "58/58 [==============================] - 0s 2ms/step - loss: 7.1491e-04 - accuracy: 0.9996\n",
      "Epoch 20/100\n",
      "58/58 [==============================] - 0s 2ms/step - loss: 8.9033e-05 - accuracy: 1.0000\n",
      "Epoch 21/100\n",
      "58/58 [==============================] - 0s 2ms/step - loss: 0.0011 - accuracy: 0.9995\n",
      "Epoch 22/100\n",
      "58/58 [==============================] - 0s 2ms/step - loss: 5.7454e-04 - accuracy: 0.9996\n",
      "Epoch 23/100\n",
      "58/58 [==============================] - 0s 2ms/step - loss: 8.9337e-04 - accuracy: 0.9996\n",
      "Epoch 24/100\n",
      "58/58 [==============================] - 0s 2ms/step - loss: 5.1702e-04 - accuracy: 0.9993\n",
      "Epoch 25/100\n",
      "58/58 [==============================] - 0s 2ms/step - loss: 4.3420e-04 - accuracy: 0.9994\n",
      "Epoch 26/100\n",
      "58/58 [==============================] - 0s 2ms/step - loss: 3.8397e-04 - accuracy: 0.9995\n",
      "Epoch 27/100\n",
      "58/58 [==============================] - 0s 2ms/step - loss: 0.0016 - accuracy: 0.9978\n",
      "Epoch 28/100\n",
      "58/58 [==============================] - 0s 2ms/step - loss: 0.0010 - accuracy: 0.9986\n",
      "Epoch 29/100\n",
      "58/58 [==============================] - 0s 2ms/step - loss: 6.3891e-04 - accuracy: 0.9991\n",
      "Epoch 30/100\n",
      "58/58 [==============================] - 0s 2ms/step - loss: 4.3588e-04 - accuracy: 0.9999\n",
      "Epoch 31/100\n",
      "58/58 [==============================] - 0s 2ms/step - loss: 8.4053e-04 - accuracy: 0.9989\n",
      "Epoch 32/100\n",
      "58/58 [==============================] - 0s 2ms/step - loss: 3.4551e-04 - accuracy: 0.9995\n",
      "Epoch 33/100\n",
      "58/58 [==============================] - 0s 2ms/step - loss: 4.3468e-04 - accuracy: 0.9994\n",
      "Epoch 34/100\n",
      "58/58 [==============================] - 0s 2ms/step - loss: 5.7940e-05 - accuracy: 0.9999\n",
      "Epoch 35/100\n",
      "58/58 [==============================] - 0s 2ms/step - loss: 5.9105e-04 - accuracy: 0.9992\n",
      "Epoch 36/100\n",
      "58/58 [==============================] - 0s 2ms/step - loss: 0.0011 - accuracy: 0.9996\n",
      "Epoch 37/100\n",
      "58/58 [==============================] - 0s 2ms/step - loss: 9.0730e-04 - accuracy: 0.9999\n",
      "Epoch 38/100\n",
      "58/58 [==============================] - 0s 2ms/step - loss: 4.2495e-04 - accuracy: 0.9994\n",
      "Epoch 39/100\n",
      "58/58 [==============================] - 0s 2ms/step - loss: 0.0018 - accuracy: 0.9975\n",
      "Epoch 40/100\n",
      "58/58 [==============================] - 0s 2ms/step - loss: 9.7823e-04 - accuracy: 0.9998\n",
      "Epoch 41/100\n",
      "58/58 [==============================] - 0s 2ms/step - loss: 7.4821e-04 - accuracy: 0.9996\n",
      "Epoch 42/100\n",
      "58/58 [==============================] - 0s 2ms/step - loss: 4.8213e-04 - accuracy: 0.9993\n",
      "Epoch 43/100\n",
      "58/58 [==============================] - 0s 2ms/step - loss: 1.7925e-04 - accuracy: 1.0000\n",
      "Epoch 44/100\n",
      "58/58 [==============================] - 0s 2ms/step - loss: 3.7648e-04 - accuracy: 0.9998\n",
      "Epoch 45/100\n",
      "58/58 [==============================] - 0s 2ms/step - loss: 6.4049e-04 - accuracy: 0.9991\n",
      "Epoch 46/100\n",
      "58/58 [==============================] - 0s 2ms/step - loss: 0.0013 - accuracy: 0.9994\n",
      "Epoch 47/100\n",
      "58/58 [==============================] - 0s 2ms/step - loss: 0.0017 - accuracy: 0.9978\n",
      "Epoch 48/100\n",
      "58/58 [==============================] - 0s 2ms/step - loss: 7.9241e-04 - accuracy: 0.9996\n",
      "Epoch 49/100\n",
      "58/58 [==============================] - 0s 2ms/step - loss: 7.1488e-04 - accuracy: 0.9991\n",
      "Epoch 50/100\n",
      "58/58 [==============================] - 0s 2ms/step - loss: 0.0027 - accuracy: 0.9987\n",
      "Epoch 51/100\n",
      "58/58 [==============================] - 0s 2ms/step - loss: 0.0534 - accuracy: 0.9876\n",
      "Epoch 52/100\n",
      "58/58 [==============================] - 0s 2ms/step - loss: 0.0980 - accuracy: 0.9660\n",
      "Epoch 53/100\n",
      "58/58 [==============================] - 0s 2ms/step - loss: 0.0330 - accuracy: 0.9957\n",
      "Epoch 54/100\n",
      "58/58 [==============================] - 0s 2ms/step - loss: 0.0130 - accuracy: 0.9936\n",
      "Epoch 55/100\n",
      "58/58 [==============================] - 0s 2ms/step - loss: 0.0143 - accuracy: 0.9937\n",
      "Epoch 56/100\n",
      "58/58 [==============================] - 0s 2ms/step - loss: 0.0045 - accuracy: 0.9988\n",
      "Epoch 57/100\n",
      "58/58 [==============================] - 0s 2ms/step - loss: 9.4288e-04 - accuracy: 0.9991\n",
      "Epoch 58/100\n",
      "58/58 [==============================] - 0s 2ms/step - loss: 0.0013 - accuracy: 0.9994\n",
      "Epoch 59/100\n",
      "58/58 [==============================] - 0s 2ms/step - loss: 4.5157e-04 - accuracy: 0.9997\n",
      "Epoch 60/100\n",
      "58/58 [==============================] - 0s 2ms/step - loss: 5.2221e-04 - accuracy: 0.9993\n",
      "Epoch 61/100\n",
      "58/58 [==============================] - 0s 2ms/step - loss: 5.9855e-04 - accuracy: 0.9998\n",
      "Epoch 62/100\n",
      "58/58 [==============================] - 0s 2ms/step - loss: 2.7875e-04 - accuracy: 0.9999\n",
      "Epoch 63/100\n",
      "58/58 [==============================] - 0s 2ms/step - loss: 9.1517e-04 - accuracy: 0.9995\n",
      "Epoch 64/100\n",
      "58/58 [==============================] - 0s 2ms/step - loss: 0.0013 - accuracy: 0.9983\n",
      "Epoch 65/100\n",
      "58/58 [==============================] - 0s 2ms/step - loss: 7.1667e-04 - accuracy: 0.9990\n",
      "Epoch 66/100\n",
      "58/58 [==============================] - 0s 2ms/step - loss: 2.3625e-04 - accuracy: 0.9999\n",
      "Epoch 67/100\n",
      "58/58 [==============================] - 0s 2ms/step - loss: 3.5657e-04 - accuracy: 0.9997\n",
      "Epoch 68/100\n",
      "58/58 [==============================] - 0s 2ms/step - loss: 4.6970e-04 - accuracy: 0.9994\n",
      "Epoch 69/100\n",
      "58/58 [==============================] - 0s 2ms/step - loss: 4.1555e-04 - accuracy: 0.9998\n",
      "Epoch 70/100\n",
      "58/58 [==============================] - 0s 2ms/step - loss: 5.3820e-04 - accuracy: 0.9993\n",
      "Epoch 71/100\n",
      "58/58 [==============================] - 0s 2ms/step - loss: 5.7917e-04 - accuracy: 0.9996\n",
      "Epoch 72/100\n",
      "58/58 [==============================] - 0s 2ms/step - loss: 0.0017 - accuracy: 0.9977\n",
      "Epoch 73/100\n",
      "58/58 [==============================] - 0s 2ms/step - loss: 6.0436e-04 - accuracy: 0.9996\n",
      "Epoch 74/100\n",
      "58/58 [==============================] - 0s 2ms/step - loss: 0.0024 - accuracy: 0.9967\n",
      "Epoch 75/100\n",
      "58/58 [==============================] - 0s 2ms/step - loss: 4.5489e-04 - accuracy: 0.9994\n",
      "Epoch 76/100\n",
      "58/58 [==============================] - 0s 2ms/step - loss: 1.2631e-04 - accuracy: 1.0000\n",
      "Epoch 77/100\n",
      "58/58 [==============================] - 0s 2ms/step - loss: 7.7737e-04 - accuracy: 0.9997\n",
      "Epoch 78/100\n",
      "58/58 [==============================] - 0s 3ms/step - loss: 9.4209e-04 - accuracy: 0.9995\n",
      "Epoch 79/100\n",
      "58/58 [==============================] - 0s 2ms/step - loss: 6.5273e-04 - accuracy: 0.9991\n",
      "Epoch 80/100\n",
      "58/58 [==============================] - 0s 2ms/step - loss: 1.6968e-04 - accuracy: 1.0000\n",
      "Epoch 81/100\n",
      "58/58 [==============================] - 0s 2ms/step - loss: 0.0012 - accuracy: 0.9983\n",
      "Epoch 82/100\n",
      "58/58 [==============================] - 0s 2ms/step - loss: 0.0013 - accuracy: 0.9982\n",
      "Epoch 83/100\n",
      "58/58 [==============================] - 0s 2ms/step - loss: 2.3117e-04 - accuracy: 0.9998\n",
      "Epoch 84/100\n",
      "58/58 [==============================] - 0s 2ms/step - loss: 5.5125e-04 - accuracy: 0.9996\n",
      "Epoch 85/100\n",
      "58/58 [==============================] - 0s 2ms/step - loss: 0.0016 - accuracy: 0.9977\n",
      "Epoch 86/100\n",
      "58/58 [==============================] - 0s 2ms/step - loss: 8.6886e-04 - accuracy: 0.9997\n",
      "Epoch 87/100\n",
      "58/58 [==============================] - 0s 2ms/step - loss: 1.9022e-04 - accuracy: 0.9999\n",
      "Epoch 88/100\n",
      "58/58 [==============================] - 0s 2ms/step - loss: 5.9942e-04 - accuracy: 0.9996\n",
      "Epoch 89/100\n",
      "58/58 [==============================] - 0s 2ms/step - loss: 5.1854e-04 - accuracy: 1.0000\n",
      "Epoch 90/100\n",
      "58/58 [==============================] - 0s 2ms/step - loss: 0.0010 - accuracy: 1.0000\n",
      "Epoch 91/100\n",
      "58/58 [==============================] - 0s 2ms/step - loss: 2.1588e-04 - accuracy: 0.9999\n",
      "Epoch 92/100\n",
      "58/58 [==============================] - 0s 2ms/step - loss: 0.0013 - accuracy: 0.9998\n",
      "Epoch 93/100\n",
      "58/58 [==============================] - 0s 2ms/step - loss: 4.2103e-04 - accuracy: 0.9996\n",
      "Epoch 94/100\n",
      "58/58 [==============================] - 0s 2ms/step - loss: 5.7054e-04 - accuracy: 0.9995\n",
      "Epoch 95/100\n",
      "58/58 [==============================] - 0s 2ms/step - loss: 5.5407e-04 - accuracy: 0.9999\n",
      "Epoch 96/100\n",
      "58/58 [==============================] - 0s 2ms/step - loss: 4.3187e-04 - accuracy: 0.9999\n",
      "Epoch 97/100\n",
      "58/58 [==============================] - 0s 2ms/step - loss: 1.2260e-04 - accuracy: 0.9999\n",
      "Epoch 98/100\n",
      "58/58 [==============================] - 0s 2ms/step - loss: 3.9182e-04 - accuracy: 0.9996\n",
      "Epoch 99/100\n",
      "58/58 [==============================] - 0s 2ms/step - loss: 0.0017 - accuracy: 0.9988\n",
      "Epoch 100/100\n",
      "58/58 [==============================] - 0s 2ms/step - loss: 0.0013 - accuracy: 0.9989\n"
     ]
    },
    {
     "output_type": "execute_result",
     "data": {
      "text/plain": [
       "<tensorflow.python.keras.callbacks.History at 0x161a5570400>"
      ]
     },
     "metadata": {},
     "execution_count": 16
    }
   ],
   "source": [
    "ann.fit(X_train, y_train, batch_size = 32, epochs = 100)"
   ]
  },
  {
   "cell_type": "code",
   "execution_count": 17,
   "metadata": {},
   "outputs": [
    {
     "output_type": "stream",
     "name": "stdout",
     "text": [
      "[[1 1]\n [1 1]\n [1 1]\n [0 0]\n [0 0]\n [0 0]\n [0 0]\n [0 1]\n [0 0]\n [0 0]\n [1 1]\n [0 0]\n [0 0]\n [1 1]\n [1 1]\n [1 1]\n [0 0]\n [0 0]\n [0 0]\n [1 1]\n [1 1]\n [1 1]\n [0 0]\n [0 0]\n [1 1]\n [0 0]\n [1 1]\n [1 1]\n [0 0]\n [1 1]\n [1 1]\n [1 1]\n [0 0]\n [1 1]\n [1 1]\n [0 0]\n [1 1]\n [1 1]\n [1 0]\n [0 0]\n [1 1]\n [0 0]\n [0 1]\n [0 0]\n [0 0]\n [1 1]\n [1 1]\n [1 1]\n [1 1]\n [1 1]\n [0 0]\n [1 1]\n [0 0]\n [1 1]\n [0 0]\n [1 1]\n [1 1]\n [1 1]\n [0 0]\n [0 1]\n [0 0]\n [1 1]\n [1 1]\n [1 1]\n [0 0]\n [0 0]\n [0 0]\n [1 1]\n [1 1]\n [0 0]\n [0 0]\n [0 0]\n [0 0]\n [1 1]\n [0 1]\n [1 1]\n [1 1]\n [0 0]\n [0 0]\n [0 0]\n [1 1]\n [1 1]\n [0 0]\n [0 0]\n [0 0]\n [0 0]\n [0 0]\n [0 0]\n [0 1]\n [0 0]\n [0 1]\n [0 0]\n [1 1]\n [1 1]\n [1 1]\n [1 1]\n [0 0]\n [0 0]\n [0 0]\n [0 0]\n [0 0]\n [1 1]\n [0 0]\n [0 0]\n [1 1]\n [1 1]\n [1 1]\n [1 1]\n [0 0]\n [0 0]\n [1 1]\n [1 1]\n [0 0]\n [1 1]\n [1 1]\n [1 1]\n [0 0]\n [0 0]\n [0 0]\n [0 0]\n [0 0]\n [0 1]\n [1 1]\n [1 1]\n [0 0]\n [1 1]\n [1 1]\n [1 1]\n [0 1]\n [1 1]\n [0 0]\n [1 1]\n [0 0]\n [1 1]\n [0 1]\n [0 0]\n [1 1]\n [0 0]\n [0 0]\n [0 0]\n [1 1]\n [1 1]\n [1 1]\n [0 0]\n [1 1]\n [0 0]\n [1 1]\n [1 1]\n [1 1]\n [1 1]\n [1 1]\n [0 0]\n [0 0]\n [0 0]\n [1 1]\n [1 1]\n [0 0]\n [0 0]\n [1 1]\n [0 0]\n [0 0]\n [0 0]\n [1 1]\n [1 1]\n [1 1]\n [1 1]\n [1 1]\n [1 1]\n [0 1]\n [1 1]\n [1 1]\n [0 0]\n [1 1]\n [0 0]\n [1 1]\n [0 0]\n [1 1]\n [1 1]\n [0 0]\n [0 0]\n [0 0]\n [1 1]\n [1 1]\n [1 1]\n [0 0]\n [1 1]\n [0 0]\n [0 0]\n [0 0]\n [0 0]\n [1 1]\n [1 0]\n [0 0]\n [0 0]\n [0 1]\n [1 1]\n [0 0]\n [0 0]\n [1 1]\n [1 1]\n [1 1]\n [0 0]\n [0 0]\n [1 1]\n [0 0]\n [1 0]\n [1 1]\n [1 1]\n [0 0]\n [1 1]\n [0 0]\n [0 0]\n [0 0]\n [1 1]\n [0 0]\n [0 0]\n [1 1]\n [1 1]\n [1 1]\n [0 1]\n [0 0]\n [0 0]\n [0 0]\n [1 1]\n [0 0]\n [0 1]\n [0 0]\n [1 1]\n [1 0]\n [1 1]\n [0 0]\n [1 1]\n [1 1]\n [0 0]\n [0 0]\n [1 0]\n [1 1]\n [0 0]\n [0 0]\n [1 1]\n [0 0]\n [1 1]\n [0 1]\n [0 0]\n [0 0]\n [0 0]\n [0 1]\n [0 0]\n [0 0]\n [1 0]\n [0 0]\n [1 1]\n [1 1]\n [0 0]\n [1 0]\n [1 1]\n [1 1]\n [0 0]\n [0 0]\n [0 1]\n [1 1]\n [0 0]\n [0 0]\n [1 1]\n [0 0]\n [0 0]\n [1 1]\n [1 1]\n [0 0]\n [1 1]\n [0 0]\n [0 0]\n [1 1]\n [0 0]\n [0 0]\n [1 1]\n [1 1]\n [0 0]\n [0 0]\n [1 1]\n [0 0]\n [0 0]\n [0 0]\n [0 0]\n [0 0]\n [1 1]\n [1 1]\n [0 0]\n [0 1]\n [1 1]\n [0 0]\n [1 1]\n [0 0]\n [0 1]\n [1 1]\n [1 1]\n [0 0]\n [0 0]\n [0 0]\n [1 1]\n [1 1]\n [1 1]\n [1 1]\n [1 1]\n [0 0]\n [1 1]\n [1 1]\n [1 1]\n [0 0]\n [0 0]\n [1 1]\n [0 0]\n [0 0]\n [0 0]\n [0 0]\n [1 1]\n [0 0]\n [0 0]\n [0 0]\n [1 1]\n [0 0]\n [0 1]\n [0 1]\n [1 0]\n [0 0]\n [0 0]\n [0 0]\n [1 0]\n [1 1]\n [0 0]\n [0 0]\n [0 0]\n [0 1]\n [0 0]\n [0 0]\n [1 1]\n [0 1]\n [1 1]\n [0 0]\n [1 1]\n [1 1]\n [0 0]\n [1 0]\n [1 1]\n [1 1]\n [0 0]\n [1 1]\n [0 0]\n [1 1]\n [0 0]\n [1 1]\n [1 1]\n [0 1]\n [1 1]\n [1 1]\n [0 0]\n [1 1]\n [1 1]\n [0 0]\n [0 0]\n [0 0]\n [1 1]\n [0 0]\n [1 1]\n [1 1]\n [0 0]\n [0 0]\n [1 1]\n [1 1]\n [0 0]\n [1 1]\n [1 0]\n [1 1]\n [1 1]\n [1 1]\n [0 0]\n [0 0]\n [1 1]\n [1 1]\n [0 0]\n [0 0]\n [0 0]\n [1 1]\n [1 1]\n [1 1]\n [0 0]\n [0 0]\n [0 1]\n [1 1]\n [0 0]\n [1 1]\n [0 0]\n [0 0]\n [1 1]\n [1 1]\n [0 0]\n [1 1]\n [0 0]\n [1 1]\n [0 0]\n [1 0]\n [1 0]\n [0 0]\n [1 1]\n [0 0]\n [1 1]\n [0 0]\n [0 0]\n [0 0]\n [0 0]\n [1 1]\n [1 1]\n [0 0]\n [0 0]\n [1 1]\n [0 0]\n [1 1]\n [0 0]\n [1 1]\n [1 1]\n [0 0]\n [1 0]\n [1 1]\n [0 0]\n [1 1]\n [0 0]\n [1 1]\n [0 0]\n [1 1]\n [0 0]\n [1 1]\n [1 1]\n [0 0]\n [0 0]\n [1 1]\n [0 1]\n [0 0]\n [1 1]\n [1 1]\n [0 0]\n [0 0]\n [0 0]\n [1 1]\n [0 0]\n [0 0]\n [1 1]\n [0 0]\n [0 0]\n [0 1]\n [1 0]\n [0 0]\n [1 0]\n [1 1]\n [1 1]\n [1 1]\n [0 0]\n [0 1]\n [0 0]\n [0 0]\n [1 1]\n [1 1]\n [1 1]]\n"
     ]
    }
   ],
   "source": [
    "y_pred = ann.predict(X_test)\n",
    "y_pred = (y_pred > 0.5)\n",
    "print(np.concatenate((y_pred.reshape(len(y_pred),1), y_test.reshape(len(y_test),1)),1))"
   ]
  },
  {
   "cell_type": "code",
   "execution_count": 18,
   "metadata": {},
   "outputs": [
    {
     "output_type": "stream",
     "name": "stdout",
     "text": [
      "[[216  16]\n [ 27 203]]\n"
     ]
    },
    {
     "output_type": "execute_result",
     "data": {
      "text/plain": [
       "0.9069264069264069"
      ]
     },
     "metadata": {},
     "execution_count": 18
    }
   ],
   "source": [
    "from sklearn.metrics import confusion_matrix, accuracy_score\n",
    "cm = confusion_matrix(y_test, y_pred)\n",
    "print(cm)\n",
    "accuracy_score(y_test, y_pred)"
   ]
  },
  {
   "cell_type": "code",
   "execution_count": 27,
   "metadata": {
    "tags": []
   },
   "outputs": [],
   "source": [
    "import cvlib as cv\n",
    "webcam = cv2.VideoCapture(0)  \n",
    "\n",
    "while webcam.isOpened():\n",
    "    status, frame = webcam.read()\n",
    "    face, confidence = cv.detect_face(frame)\n",
    "    for idx, f in enumerate(face):\n",
    "        (startX, startY) = f[0], f[1]\n",
    "        (endX, endY) = f[2], f[3]\n",
    "        cv2.rectangle(frame, (startX,startY), (endX,endY), (0,255,0), 2)\n",
    "        face_crop = np.copy(frame[startY:endY,startX:endX])\n",
    "        if (face_crop.shape[0]) < 10 or (face_crop.shape[1]) < 10:\n",
    "            continue\n",
    "        face_crop = cv2.resize(face_crop, (64,64))\n",
    "        face_crop = face_crop.astype(\"float\") / 255.0\n",
    "        face_crop = tf.keras.preprocessing.image.img_to_array(face_crop)\n",
    "        face_crop = np.expand_dims(face_crop, axis=0)\n",
    "        face_crop = grayer.transform(face_crop)\n",
    "        face_crop = hoger.transform(face_crop)\n",
    "        face_crop = scaler.transform(face_crop)\n",
    "        conf = ann.predict(face_crop)\n",
    "        if conf[0][0] > 0.5:\n",
    "            label = f\"man: {int(conf[0][0]*100)}%\"\n",
    "        else:\n",
    "            label = f\"woman: {100-int(conf[0][0]*100)}%\"\n",
    "        Y = startY - 10 if startY - 10 > 10 else startY + 10\n",
    "        cv2.putText(frame, label, (startX, Y),  cv2.FONT_HERSHEY_SIMPLEX, 0.7, (145, 155, 49), 2)\n",
    "    cv2.imshow(\"gender detection\", frame)\n",
    "    # press \"Q\" to stop\n",
    "    if cv2.waitKey(1) & 0xFF == ord('q'):\n",
    "        break\n",
    "\n",
    "webcam.release()\n",
    "cv2.destroyAllWindows()"
   ]
  },
  {
   "cell_type": "code",
   "execution_count": null,
   "metadata": {},
   "outputs": [],
   "source": []
  }
 ]
}