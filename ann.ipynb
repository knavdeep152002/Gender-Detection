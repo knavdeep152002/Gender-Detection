{
 "metadata": {
  "language_info": {
   "codemirror_mode": {
    "name": "ipython",
    "version": 3
   },
   "file_extension": ".py",
   "mimetype": "text/x-python",
   "name": "python",
   "nbconvert_exporter": "python",
   "pygments_lexer": "ipython3",
   "version": "3.8.6"
  },
  "orig_nbformat": 2,
  "kernelspec": {
   "name": "python386jvsc74a57bd0de0691b9b4162a018d9cf464d16e088981b9bd9cf8e3a46dde4c669df41bd453",
   "display_name": "Python 3.8.6 64-bit"
  },
  "metadata": {
   "interpreter": {
    "hash": "de0691b9b4162a018d9cf464d16e088981b9bd9cf8e3a46dde4c669df41bd453"
   }
  }
 },
 "nbformat": 4,
 "nbformat_minor": 2,
 "cells": [
  {
   "cell_type": "code",
   "execution_count": 18,
   "metadata": {},
   "outputs": [],
   "source": [
    "from skimage.feature import hog\n",
    "from skimage.io import imread\n",
    "from skimage.transform import rescale\n",
    "import skimage\n",
    "\n",
    "from sklearn.preprocessing import StandardScaler\n",
    "from sklearn.base import BaseEstimator, TransformerMixin\n",
    "from sklearn.metrics import confusion_matrix, accuracy_score"
   ]
  },
  {
   "cell_type": "code",
   "execution_count": 19,
   "metadata": {},
   "outputs": [
    {
     "output_type": "stream",
     "name": "stdout",
     "text": [
      "2307\n"
     ]
    }
   ],
   "source": [
    "import numpy as np\n",
    "import pandas as pd\n",
    "import tensorflow as tf\n",
    "import random\n",
    "import cv2\n",
    "import os\n",
    "import glob\n",
    "\n",
    "X = []\n",
    "y = []\n",
    "\n",
    "load_images = [f for f in glob.glob(r'E:\\ML\\Gender Detector\\dataset' + \"/**/*\", recursive=True) if not os.path.isdir(f)]\n",
    "random.shuffle(load_images)\n",
    "\n",
    "print(len(load_images))\n",
    "for img in load_images:\n",
    "    image = cv2.imread(img)\n",
    "    image = cv2.resize(image, (64,64))\n",
    "    image = tf.keras.preprocessing.image.img_to_array(image)\n",
    "    # image = np.expand_dims(image, axis=0)\n",
    "    X.append(image)\n",
    "    typ = img.split(os.path.sep)[-2]\n",
    "    if typ == \"woman\":\n",
    "        typ = 0\n",
    "    else:\n",
    "        typ = 1  \n",
    "    y.append([typ])"
   ]
  },
  {
   "cell_type": "code",
   "execution_count": 20,
   "metadata": {
    "tags": []
   },
   "outputs": [
    {
     "output_type": "stream",
     "name": "stdout",
     "text": [
      "(2307, 64, 64, 3)\n(2307, 1)\n"
     ]
    }
   ],
   "source": [
    "X = np.array(X)\n",
    "y = np.array(y)\n",
    "print(X.shape)\n",
    "print(y.shape)"
   ]
  },
  {
   "cell_type": "code",
   "execution_count": 21,
   "metadata": {},
   "outputs": [],
   "source": [
    "from sklearn.model_selection import train_test_split\n",
    "X_train, X_test, y_train, y_test = train_test_split(X, y, test_size = 0.2, random_state = 0)"
   ]
  },
  {
   "cell_type": "code",
   "execution_count": 22,
   "metadata": {},
   "outputs": [
    {
     "output_type": "stream",
     "name": "stdout",
     "text": [
      "(462, 64, 64, 3)\n"
     ]
    }
   ],
   "source": [
    "print(X_test.shape)"
   ]
  },
  {
   "cell_type": "code",
   "execution_count": 23,
   "metadata": {},
   "outputs": [],
   "source": [
    "class RGB_to_Gray(BaseEstimator, TransformerMixin):\n",
    "    def __init__(self):\n",
    "        pass\n",
    "\n",
    "    def fit(self, X, y=None):\n",
    "        return self\n",
    "\n",
    "    def transform(self, X, y=None):\n",
    "        return np.array([skimage.color.rgb2gray(img) for img in X])\n",
    " \n",
    "class Hogger(BaseEstimator, TransformerMixin):\n",
    "    def __init__(self, y=None, orientations=9, pixels_per_cell=(8, 8), cells_per_block=(3, 3), block_norm='L2-Hys'):\n",
    "        self.y = y\n",
    "        self.orientations = orientations\n",
    "        self.pixels_per_cell = pixels_per_cell\n",
    "        self.cells_per_block = cells_per_block\n",
    "        self.block_norm = block_norm\n",
    "\n",
    "    def fit(self, X, y=None):\n",
    "        return self\n",
    "\n",
    "    def transform(self, X, y=None):\n",
    "\n",
    "        def local_hog(X):\n",
    "            return hog(X, orientations=self.orientations, pixels_per_cell=self.pixels_per_cell,\n",
    "                       cells_per_block=self.cells_per_block, block_norm=self.block_norm)\n",
    "        return np.array([local_hog(img) for img in X])\n"
   ]
  },
  {
   "cell_type": "code",
   "execution_count": 24,
   "metadata": {},
   "outputs": [
    {
     "output_type": "stream",
     "name": "stdout",
     "text": [
      "(462, 64, 64)\n",
      "(462, 1764)\n",
      "(462, 1764)\n"
     ]
    }
   ],
   "source": [
    "grayer = RGB_to_Gray()\n",
    "hoger = Hogger(pixels_per_cell=(8, 8),cells_per_block=(2,2),orientations=9,block_norm='L2-Hys')\n",
    "scaler = StandardScaler()\n",
    " \n",
    "X_train = grayer.fit_transform(X_train)\n",
    "X_train = hoger.fit_transform(X_train)\n",
    "X_train = scaler.fit_transform(X_train)\n",
    "\n",
    "X_test=grayer.transform(X_test)\n",
    "print(X_test.shape)\n",
    "X_test=hoger.transform(X_test)\n",
    "print(X_test.shape)\n",
    "X_test = scaler.transform(X_test)\n",
    "print(X_test.shape)"
   ]
  },
  {
   "cell_type": "code",
   "execution_count": 25,
   "metadata": {},
   "outputs": [],
   "source": [
    "ann = tf.keras.models.Sequential()"
   ]
  },
  {
   "cell_type": "code",
   "execution_count": 26,
   "metadata": {},
   "outputs": [],
   "source": [
    "ann.add(tf.keras.layers.Dense(units=10, activation='relu'))"
   ]
  },
  {
   "cell_type": "code",
   "execution_count": 27,
   "metadata": {},
   "outputs": [],
   "source": [
    "ann.add(tf.keras.layers.Dense(units=10, activation='relu'))"
   ]
  },
  {
   "cell_type": "code",
   "execution_count": 28,
   "metadata": {},
   "outputs": [],
   "source": [
    "ann.add(tf.keras.layers.Dense(units=10, activation='relu'))"
   ]
  },
  {
   "cell_type": "code",
   "execution_count": 29,
   "metadata": {},
   "outputs": [],
   "source": [
    "ann.add(tf.keras.layers.Dense(units=1, activation='sigmoid'))"
   ]
  },
  {
   "cell_type": "code",
   "execution_count": 30,
   "metadata": {},
   "outputs": [],
   "source": [
    "ann.compile(optimizer = 'adam', loss = 'binary_crossentropy', metrics = ['accuracy'])"
   ]
  },
  {
   "cell_type": "code",
   "execution_count": 31,
   "metadata": {},
   "outputs": [
    {
     "output_type": "stream",
     "name": "stdout",
     "text": [
      "Epoch 1/100\n",
      "58/58 [==============================] - 1s 2ms/step - loss: 0.6031 - accuracy: 0.6785\n",
      "Epoch 2/100\n",
      "58/58 [==============================] - 0s 1ms/step - loss: 0.2623 - accuracy: 0.8991\n",
      "Epoch 3/100\n",
      "58/58 [==============================] - 0s 1ms/step - loss: 0.1442 - accuracy: 0.9528\n",
      "Epoch 4/100\n",
      "58/58 [==============================] - 0s 1ms/step - loss: 0.0958 - accuracy: 0.9678\n",
      "Epoch 5/100\n",
      "58/58 [==============================] - 0s 1ms/step - loss: 0.0662 - accuracy: 0.9771\n",
      "Epoch 6/100\n",
      "58/58 [==============================] - 0s 2ms/step - loss: 0.0356 - accuracy: 0.9873\n",
      "Epoch 7/100\n",
      "58/58 [==============================] - 0s 2ms/step - loss: 0.0249 - accuracy: 0.9951\n",
      "Epoch 8/100\n",
      "58/58 [==============================] - 0s 2ms/step - loss: 0.0187 - accuracy: 0.9956\n",
      "Epoch 9/100\n",
      "58/58 [==============================] - 0s 1ms/step - loss: 0.0105 - accuracy: 0.9971\n",
      "Epoch 10/100\n",
      "58/58 [==============================] - 0s 1ms/step - loss: 0.0112 - accuracy: 0.9976\n",
      "Epoch 11/100\n",
      "58/58 [==============================] - 0s 1ms/step - loss: 0.0105 - accuracy: 0.9970\n",
      "Epoch 12/100\n",
      "58/58 [==============================] - 0s 1ms/step - loss: 0.0064 - accuracy: 0.9979\n",
      "Epoch 13/100\n",
      "58/58 [==============================] - 0s 1ms/step - loss: 0.0058 - accuracy: 0.9992\n",
      "Epoch 14/100\n",
      "58/58 [==============================] - 0s 1ms/step - loss: 0.0102 - accuracy: 0.9975\n",
      "Epoch 15/100\n",
      "58/58 [==============================] - 0s 1ms/step - loss: 0.0082 - accuracy: 0.9963\n",
      "Epoch 16/100\n",
      "58/58 [==============================] - 0s 1ms/step - loss: 0.0030 - accuracy: 0.9989\n",
      "Epoch 17/100\n",
      "58/58 [==============================] - 0s 1ms/step - loss: 0.0033 - accuracy: 0.9995\n",
      "Epoch 18/100\n",
      "58/58 [==============================] - 0s 1ms/step - loss: 0.0040 - accuracy: 0.9989\n",
      "Epoch 19/100\n",
      "58/58 [==============================] - 0s 1ms/step - loss: 0.0023 - accuracy: 0.9994\n",
      "Epoch 20/100\n",
      "58/58 [==============================] - 0s 965us/step - loss: 0.0018 - accuracy: 0.9998\n",
      "Epoch 21/100\n",
      "58/58 [==============================] - 0s 1ms/step - loss: 0.0047 - accuracy: 0.9982\n",
      "Epoch 22/100\n",
      "58/58 [==============================] - 0s 1000us/step - loss: 0.0036 - accuracy: 0.9984\n",
      "Epoch 23/100\n",
      "58/58 [==============================] - 0s 1ms/step - loss: 0.0039 - accuracy: 0.9981\n",
      "Epoch 24/100\n",
      "58/58 [==============================] - 0s 1ms/step - loss: 0.0015 - accuracy: 0.9989\n",
      "Epoch 25/100\n",
      "58/58 [==============================] - 0s 1ms/step - loss: 0.0034 - accuracy: 0.9977\n",
      "Epoch 26/100\n",
      "58/58 [==============================] - 0s 1ms/step - loss: 0.0025 - accuracy: 0.9992\n",
      "Epoch 27/100\n",
      "58/58 [==============================] - 0s 1ms/step - loss: 0.0040 - accuracy: 0.9979\n",
      "Epoch 28/100\n",
      "58/58 [==============================] - 0s 1ms/step - loss: 0.0020 - accuracy: 0.9994\n",
      "Epoch 29/100\n",
      "58/58 [==============================] - 0s 982us/step - loss: 0.0020 - accuracy: 0.9989\n",
      "Epoch 30/100\n",
      "58/58 [==============================] - 0s 1ms/step - loss: 0.0039 - accuracy: 0.9969\n",
      "Epoch 31/100\n",
      "58/58 [==============================] - 0s 1ms/step - loss: 0.0024 - accuracy: 0.9988\n",
      "Epoch 32/100\n",
      "58/58 [==============================] - 0s 1ms/step - loss: 0.0015 - accuracy: 0.9991\n",
      "Epoch 33/100\n",
      "58/58 [==============================] - 0s 1ms/step - loss: 0.0032 - accuracy: 0.9967\n",
      "Epoch 34/100\n",
      "58/58 [==============================] - 0s 1ms/step - loss: 0.0090 - accuracy: 0.9958\n",
      "Epoch 35/100\n",
      "58/58 [==============================] - 0s 1ms/step - loss: 0.0024 - accuracy: 0.9989\n",
      "Epoch 36/100\n",
      "58/58 [==============================] - 0s 1ms/step - loss: 0.0024 - accuracy: 0.9974\n",
      "Epoch 37/100\n",
      "58/58 [==============================] - 0s 1ms/step - loss: 0.0016 - accuracy: 0.9980\n",
      "Epoch 38/100\n",
      "58/58 [==============================] - 0s 1ms/step - loss: 0.0019 - accuracy: 0.9990\n",
      "Epoch 39/100\n",
      "58/58 [==============================] - 0s 1ms/step - loss: 0.0030 - accuracy: 0.9963\n",
      "Epoch 40/100\n",
      "58/58 [==============================] - 0s 1ms/step - loss: 0.0012 - accuracy: 0.9995\n",
      "Epoch 41/100\n",
      "58/58 [==============================] - 0s 1ms/step - loss: 0.0015 - accuracy: 0.9983\n",
      "Epoch 42/100\n",
      "58/58 [==============================] - 0s 1ms/step - loss: 0.0026 - accuracy: 0.9977\n",
      "Epoch 43/100\n",
      "58/58 [==============================] - 0s 1ms/step - loss: 0.0024 - accuracy: 0.9980\n",
      "Epoch 44/100\n",
      "58/58 [==============================] - 0s 1ms/step - loss: 0.0023 - accuracy: 0.9974\n",
      "Epoch 45/100\n",
      "58/58 [==============================] - 0s 1ms/step - loss: 0.0019 - accuracy: 0.9989\n",
      "Epoch 46/100\n",
      "58/58 [==============================] - 0s 1000us/step - loss: 0.0017 - accuracy: 0.9990\n",
      "Epoch 47/100\n",
      "58/58 [==============================] - 0s 1ms/step - loss: 0.0032 - accuracy: 0.9981\n",
      "Epoch 48/100\n",
      "58/58 [==============================] - 0s 1ms/step - loss: 0.0022 - accuracy: 0.9998\n",
      "Epoch 49/100\n",
      "58/58 [==============================] - 0s 1ms/step - loss: 8.5033e-04 - accuracy: 0.9997\n",
      "Epoch 50/100\n",
      "58/58 [==============================] - 0s 1000us/step - loss: 0.0020 - accuracy: 0.9987\n",
      "Epoch 51/100\n",
      "58/58 [==============================] - 0s 1ms/step - loss: 0.0012 - accuracy: 0.9994\n",
      "Epoch 52/100\n",
      "58/58 [==============================] - 0s 1ms/step - loss: 0.0024 - accuracy: 0.9989\n",
      "Epoch 53/100\n",
      "58/58 [==============================] - 0s 1ms/step - loss: 0.0018 - accuracy: 0.9979\n",
      "Epoch 54/100\n",
      "58/58 [==============================] - 0s 1ms/step - loss: 5.2223e-04 - accuracy: 0.9996\n",
      "Epoch 55/100\n",
      "58/58 [==============================] - 0s 1ms/step - loss: 0.0022 - accuracy: 0.9992\n",
      "Epoch 56/100\n",
      "58/58 [==============================] - 0s 1ms/step - loss: 0.0014 - accuracy: 0.9981\n",
      "Epoch 57/100\n",
      "58/58 [==============================] - 0s 1ms/step - loss: 0.0076 - accuracy: 0.9982\n",
      "Epoch 58/100\n",
      "58/58 [==============================] - 0s 1ms/step - loss: 0.1853 - accuracy: 0.9532\n",
      "Epoch 59/100\n",
      "58/58 [==============================] - 0s 1ms/step - loss: 0.0515 - accuracy: 0.9808\n",
      "Epoch 60/100\n",
      "58/58 [==============================] - 0s 982us/step - loss: 0.0153 - accuracy: 0.9946\n",
      "Epoch 61/100\n",
      "58/58 [==============================] - 0s 1ms/step - loss: 0.0094 - accuracy: 0.9947\n",
      "Epoch 62/100\n",
      "58/58 [==============================] - 0s 1ms/step - loss: 0.0067 - accuracy: 0.9964\n",
      "Epoch 63/100\n",
      "58/58 [==============================] - 0s 1ms/step - loss: 0.0038 - accuracy: 0.9988\n",
      "Epoch 64/100\n",
      "58/58 [==============================] - 0s 982us/step - loss: 0.0051 - accuracy: 0.9967\n",
      "Epoch 65/100\n",
      "58/58 [==============================] - 0s 1ms/step - loss: 0.0065 - accuracy: 0.9953\n",
      "Epoch 66/100\n",
      "58/58 [==============================] - 0s 1ms/step - loss: 0.0029 - accuracy: 0.9994\n",
      "Epoch 67/100\n",
      "58/58 [==============================] - 0s 1ms/step - loss: 0.0024 - accuracy: 0.9986\n",
      "Epoch 68/100\n",
      "58/58 [==============================] - 0s 1ms/step - loss: 0.0021 - accuracy: 0.9992\n",
      "Epoch 69/100\n",
      "58/58 [==============================] - 0s 1ms/step - loss: 0.0021 - accuracy: 0.9994\n",
      "Epoch 70/100\n",
      "58/58 [==============================] - 0s 1ms/step - loss: 0.0030 - accuracy: 0.9993\n",
      "Epoch 71/100\n",
      "58/58 [==============================] - 0s 1ms/step - loss: 0.0017 - accuracy: 0.9996\n",
      "Epoch 72/100\n",
      "58/58 [==============================] - 0s 1ms/step - loss: 0.0031 - accuracy: 0.9987\n",
      "Epoch 73/100\n",
      "58/58 [==============================] - 0s 1ms/step - loss: 0.0031 - accuracy: 0.9986\n",
      "Epoch 74/100\n",
      "58/58 [==============================] - 0s 1ms/step - loss: 0.0027 - accuracy: 0.9999\n",
      "Epoch 75/100\n",
      "58/58 [==============================] - 0s 2ms/step - loss: 0.0020 - accuracy: 0.9987\n",
      "Epoch 76/100\n",
      "58/58 [==============================] - 0s 2ms/step - loss: 0.0013 - accuracy: 0.9994\n",
      "Epoch 77/100\n",
      "58/58 [==============================] - 0s 2ms/step - loss: 0.0018 - accuracy: 0.9996\n",
      "Epoch 78/100\n",
      "58/58 [==============================] - 0s 1ms/step - loss: 0.0014 - accuracy: 0.9998\n",
      "Epoch 79/100\n",
      "58/58 [==============================] - 0s 1ms/step - loss: 0.0013 - accuracy: 0.9998\n",
      "Epoch 80/100\n",
      "58/58 [==============================] - 0s 1ms/step - loss: 7.8100e-04 - accuracy: 0.9999\n",
      "Epoch 81/100\n",
      "58/58 [==============================] - 0s 1ms/step - loss: 0.0023 - accuracy: 0.9986\n",
      "Epoch 82/100\n",
      "58/58 [==============================] - 0s 1ms/step - loss: 6.2762e-04 - accuracy: 0.9999\n",
      "Epoch 83/100\n",
      "58/58 [==============================] - 0s 1ms/step - loss: 9.9778e-04 - accuracy: 0.9999\n",
      "Epoch 84/100\n",
      "58/58 [==============================] - 0s 1ms/step - loss: 0.0022 - accuracy: 0.9991\n",
      "Epoch 85/100\n",
      "58/58 [==============================] - 0s 1ms/step - loss: 4.0667e-04 - accuracy: 0.9999\n",
      "Epoch 86/100\n",
      "58/58 [==============================] - 0s 1ms/step - loss: 9.9585e-04 - accuracy: 0.9999\n",
      "Epoch 87/100\n",
      "58/58 [==============================] - 0s 1ms/step - loss: 0.0018 - accuracy: 0.9996\n",
      "Epoch 88/100\n",
      "58/58 [==============================] - 0s 1ms/step - loss: 0.0028 - accuracy: 0.9975\n",
      "Epoch 89/100\n",
      "58/58 [==============================] - 0s 1ms/step - loss: 7.9334e-04 - accuracy: 0.9996\n",
      "Epoch 90/100\n",
      "58/58 [==============================] - 0s 1ms/step - loss: 9.9797e-04 - accuracy: 1.0000\n",
      "Epoch 91/100\n",
      "58/58 [==============================] - 0s 1ms/step - loss: 4.8946e-04 - accuracy: 0.9997\n",
      "Epoch 92/100\n",
      "58/58 [==============================] - 0s 1ms/step - loss: 5.1116e-04 - accuracy: 0.9998\n",
      "Epoch 93/100\n",
      "58/58 [==============================] - 0s 1ms/step - loss: 0.0010 - accuracy: 0.9994\n",
      "Epoch 94/100\n",
      "58/58 [==============================] - 0s 1ms/step - loss: 0.0011 - accuracy: 0.9993\n",
      "Epoch 95/100\n",
      "58/58 [==============================] - 0s 1ms/step - loss: 0.0010 - accuracy: 0.9995\n",
      "Epoch 96/100\n",
      "58/58 [==============================] - 0s 1ms/step - loss: 0.0012 - accuracy: 0.9995\n",
      "Epoch 97/100\n",
      "58/58 [==============================] - 0s 1ms/step - loss: 0.0010 - accuracy: 0.9992\n",
      "Epoch 98/100\n",
      "58/58 [==============================] - 0s 1ms/step - loss: 0.0015 - accuracy: 0.9988\n",
      "Epoch 99/100\n",
      "58/58 [==============================] - 0s 1ms/step - loss: 0.0020 - accuracy: 0.9988\n",
      "Epoch 100/100\n",
      "58/58 [==============================] - 0s 1ms/step - loss: 0.0031 - accuracy: 0.9983\n"
     ]
    },
    {
     "output_type": "execute_result",
     "data": {
      "text/plain": [
       "<tensorflow.python.keras.callbacks.History at 0x14aa1033790>"
      ]
     },
     "metadata": {},
     "execution_count": 31
    }
   ],
   "source": [
    "ann.fit(X_train, y_train, batch_size = 32, epochs = 100)"
   ]
  },
  {
   "cell_type": "code",
   "execution_count": 32,
   "metadata": {},
   "outputs": [
    {
     "output_type": "stream",
     "name": "stdout",
     "text": [
      "[[0 0]\n [0 1]\n [0 0]\n [1 1]\n [0 0]\n [1 1]\n [1 0]\n [1 1]\n [1 1]\n [1 1]\n [0 0]\n [1 1]\n [1 1]\n [0 0]\n [0 0]\n [0 0]\n [0 0]\n [1 1]\n [1 1]\n [1 1]\n [0 0]\n [1 0]\n [1 1]\n [1 1]\n [1 1]\n [1 1]\n [1 0]\n [1 1]\n [0 1]\n [0 0]\n [1 1]\n [1 0]\n [1 1]\n [1 1]\n [1 1]\n [1 1]\n [0 0]\n [0 0]\n [0 0]\n [0 1]\n [0 0]\n [0 0]\n [0 1]\n [0 1]\n [0 0]\n [1 1]\n [0 0]\n [1 1]\n [1 1]\n [0 0]\n [1 1]\n [0 0]\n [0 0]\n [1 1]\n [1 1]\n [1 1]\n [0 1]\n [0 0]\n [0 0]\n [0 0]\n [1 1]\n [0 0]\n [1 1]\n [1 1]\n [1 1]\n [0 0]\n [1 1]\n [0 0]\n [1 1]\n [0 0]\n [1 0]\n [0 1]\n [1 1]\n [1 1]\n [0 0]\n [1 1]\n [1 1]\n [1 1]\n [1 1]\n [0 1]\n [1 1]\n [1 0]\n [1 1]\n [0 0]\n [1 0]\n [1 1]\n [1 1]\n [1 1]\n [0 0]\n [1 1]\n [0 0]\n [0 0]\n [1 1]\n [0 1]\n [1 0]\n [1 1]\n [1 1]\n [0 0]\n [0 0]\n [1 1]\n [0 0]\n [1 1]\n [0 0]\n [0 0]\n [0 0]\n [1 1]\n [0 0]\n [1 1]\n [0 0]\n [0 0]\n [0 0]\n [0 0]\n [0 0]\n [0 0]\n [1 1]\n [1 1]\n [1 1]\n [1 1]\n [0 0]\n [1 1]\n [0 1]\n [1 1]\n [0 1]\n [1 1]\n [0 1]\n [1 1]\n [0 1]\n [0 0]\n [0 0]\n [1 1]\n [1 1]\n [1 1]\n [1 1]\n [0 0]\n [1 1]\n [0 0]\n [1 1]\n [1 1]\n [0 0]\n [1 1]\n [1 1]\n [0 0]\n [0 0]\n [1 1]\n [0 0]\n [1 1]\n [1 1]\n [0 0]\n [1 0]\n [0 0]\n [1 0]\n [1 1]\n [1 1]\n [1 1]\n [0 0]\n [0 0]\n [0 1]\n [0 0]\n [0 0]\n [1 1]\n [1 0]\n [0 0]\n [0 0]\n [0 0]\n [1 0]\n [1 1]\n [0 0]\n [1 1]\n [0 0]\n [0 0]\n [1 0]\n [1 1]\n [0 1]\n [0 0]\n [0 1]\n [1 1]\n [0 1]\n [0 0]\n [1 1]\n [1 1]\n [0 0]\n [0 0]\n [1 1]\n [0 0]\n [0 0]\n [1 1]\n [1 1]\n [1 1]\n [1 1]\n [1 0]\n [0 1]\n [1 0]\n [1 1]\n [0 0]\n [1 0]\n [1 1]\n [0 0]\n [1 1]\n [0 0]\n [1 1]\n [0 0]\n [0 0]\n [1 1]\n [1 1]\n [1 1]\n [1 1]\n [0 0]\n [1 1]\n [1 1]\n [1 0]\n [0 0]\n [0 0]\n [1 1]\n [1 1]\n [1 1]\n [0 0]\n [1 0]\n [1 1]\n [1 1]\n [0 0]\n [1 1]\n [1 1]\n [0 0]\n [1 1]\n [1 1]\n [1 1]\n [1 1]\n [0 0]\n [0 0]\n [0 0]\n [1 1]\n [0 0]\n [0 0]\n [0 0]\n [0 0]\n [0 1]\n [1 1]\n [0 0]\n [1 1]\n [1 1]\n [0 0]\n [0 0]\n [0 0]\n [1 1]\n [0 0]\n [0 0]\n [0 0]\n [0 0]\n [0 0]\n [0 0]\n [1 1]\n [0 0]\n [0 0]\n [1 1]\n [0 1]\n [1 1]\n [1 1]\n [1 1]\n [0 0]\n [1 1]\n [0 0]\n [0 0]\n [1 1]\n [1 1]\n [1 1]\n [0 0]\n [0 0]\n [0 0]\n [1 1]\n [1 1]\n [0 0]\n [0 0]\n [1 1]\n [0 0]\n [1 1]\n [1 1]\n [1 1]\n [0 0]\n [0 0]\n [0 0]\n [0 0]\n [1 1]\n [0 0]\n [1 1]\n [0 0]\n [1 1]\n [1 1]\n [1 1]\n [0 1]\n [0 0]\n [1 1]\n [0 0]\n [0 1]\n [0 0]\n [1 0]\n [0 1]\n [1 1]\n [0 0]\n [1 1]\n [1 1]\n [0 1]\n [1 1]\n [1 1]\n [0 0]\n [0 0]\n [0 0]\n [0 0]\n [0 0]\n [0 0]\n [0 0]\n [1 1]\n [1 1]\n [0 0]\n [1 1]\n [1 0]\n [0 0]\n [0 0]\n [1 1]\n [0 0]\n [1 1]\n [1 1]\n [1 1]\n [0 0]\n [0 0]\n [1 0]\n [1 1]\n [1 1]\n [0 0]\n [0 0]\n [0 0]\n [0 0]\n [1 1]\n [1 1]\n [1 1]\n [1 1]\n [1 1]\n [0 0]\n [1 1]\n [1 0]\n [0 0]\n [0 0]\n [1 0]\n [1 1]\n [1 1]\n [0 0]\n [1 1]\n [0 1]\n [0 0]\n [0 0]\n [0 0]\n [1 1]\n [1 1]\n [1 1]\n [0 0]\n [1 0]\n [1 1]\n [0 0]\n [0 0]\n [0 0]\n [1 1]\n [0 0]\n [1 1]\n [0 1]\n [1 1]\n [1 1]\n [1 1]\n [0 0]\n [1 1]\n [0 0]\n [0 0]\n [1 1]\n [1 1]\n [1 1]\n [1 1]\n [1 1]\n [1 1]\n [1 1]\n [0 0]\n [0 1]\n [1 1]\n [0 0]\n [1 1]\n [1 1]\n [1 1]\n [0 0]\n [1 1]\n [0 0]\n [0 0]\n [1 1]\n [1 1]\n [1 0]\n [0 1]\n [0 0]\n [0 0]\n [0 0]\n [1 1]\n [1 1]\n [0 0]\n [1 1]\n [1 1]\n [1 1]\n [1 1]\n [0 0]\n [1 1]\n [0 1]\n [1 1]\n [0 0]\n [1 1]\n [1 1]\n [1 0]\n [0 0]\n [0 0]\n [1 0]\n [1 1]\n [0 0]\n [1 1]\n [1 1]\n [1 1]\n [0 0]\n [0 0]\n [0 1]\n [0 0]\n [1 1]\n [0 0]\n [1 1]\n [0 0]\n [0 0]\n [0 0]\n [0 1]\n [0 0]\n [0 0]\n [1 1]\n [0 0]\n [0 1]\n [0 0]\n [1 1]\n [1 1]\n [0 0]\n [1 1]\n [0 0]\n [1 1]\n [0 0]\n [0 1]\n [0 0]\n [0 0]\n [1 1]\n [1 1]\n [0 0]\n [1 1]\n [0 0]\n [0 0]\n [0 0]\n [0 0]\n [1 1]\n [0 1]\n [1 1]\n [1 1]\n [0 0]\n [0 0]\n [0 0]\n [1 1]\n [0 0]]\n"
     ]
    }
   ],
   "source": [
    "y_pred = ann.predict(X_test)\n",
    "y_pred = (y_pred > 0.5)\n",
    "print(np.concatenate((y_pred.reshape(len(y_pred),1), y_test.reshape(len(y_test),1)),1))"
   ]
  },
  {
   "cell_type": "code",
   "execution_count": 33,
   "metadata": {},
   "outputs": [
    {
     "output_type": "stream",
     "name": "stdout",
     "text": [
      "[[192  27]\n [ 34 209]]\n"
     ]
    },
    {
     "output_type": "execute_result",
     "data": {
      "text/plain": [
       "0.8679653679653679"
      ]
     },
     "metadata": {},
     "execution_count": 33
    }
   ],
   "source": [
    "from sklearn.metrics import confusion_matrix, accuracy_score\n",
    "cm = confusion_matrix(y_test, y_pred)\n",
    "print(cm)\n",
    "accuracy_score(y_test, y_pred)"
   ]
  },
  {
   "cell_type": "code",
   "execution_count": 34,
   "metadata": {
    "tags": []
   },
   "outputs": [],
   "source": [
    "import cvlib as cv\n",
    "webcam = cv2.VideoCapture(0)    \n",
    "classes = ['woman','man']\n",
    "\n",
    "while webcam.isOpened():\n",
    "    status, frame = webcam.read()\n",
    "    face, confidence = cv.detect_face(frame)\n",
    "    for idx, f in enumerate(face):\n",
    "        (startX, startY) = f[0], f[1]\n",
    "        (endX, endY) = f[2], f[3]\n",
    "        cv2.rectangle(frame, (startX,startY), (endX,endY), (0,255,0), 2)\n",
    "        face_crop = np.copy(frame[startY:endY,startX:endX])\n",
    "        if (face_crop.shape[0]) < 10 or (face_crop.shape[1]) < 10:\n",
    "            continue\n",
    "        face_crop = cv2.resize(face_crop, (64,64))\n",
    "        face_crop = face_crop.astype(\"float\") / 255.0\n",
    "        face_crop = tf.keras.preprocessing.image.img_to_array(face_crop)\n",
    "        face_crop = np.expand_dims(face_crop, axis=0)\n",
    "        face_crop = grayer.transform(face_crop)\n",
    "        face_crop = hoger.transform(face_crop)\n",
    "        face_crop = scaler.transform(face_crop)\n",
    "        conf = ann.predict(face_crop)\n",
    "        if conf > 0.5:\n",
    "            label = \"man: Hi bro\"\n",
    "        else:\n",
    "            label = \"woman: hello\"\n",
    "        Y = startY - 10 if startY - 10 > 10 else startY + 10\n",
    "        cv2.putText(frame, label, (startX, Y),  cv2.FONT_HERSHEY_SIMPLEX, 0.7, (145, 155, 49), 2)\n",
    "    cv2.imshow(\"gender detection\", frame)\n",
    "    # press \"Q\" to stop\n",
    "    if cv2.waitKey(1) & 0xFF == ord('q'):\n",
    "        break\n",
    "\n",
    "webcam.release()\n",
    "cv2.destroyAllWindows()"
   ]
  }
 ]
}