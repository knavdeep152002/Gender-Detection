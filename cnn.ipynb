{
 "metadata": {
  "language_info": {
   "codemirror_mode": {
    "name": "ipython",
    "version": 3
   },
   "file_extension": ".py",
   "mimetype": "text/x-python",
   "name": "python",
   "nbconvert_exporter": "python",
   "pygments_lexer": "ipython3",
   "version": "3.8.6"
  },
  "orig_nbformat": 2,
  "kernelspec": {
   "name": "python386jvsc74a57bd0de0691b9b4162a018d9cf464d16e088981b9bd9cf8e3a46dde4c669df41bd453",
   "display_name": "Python 3.8.6 64-bit"
  },
  "metadata": {
   "interpreter": {
    "hash": "de0691b9b4162a018d9cf464d16e088981b9bd9cf8e3a46dde4c669df41bd453"
   }
  }
 },
 "nbformat": 4,
 "nbformat_minor": 2,
 "cells": [
  {
   "cell_type": "code",
   "execution_count": 2,
   "metadata": {},
   "outputs": [],
   "source": [
    "import tensorflow as tf\n",
    "import numpy as np\n",
    "from keras.preprocessing.image import ImageDataGenerator"
   ]
  },
  {
   "cell_type": "code",
   "execution_count": 3,
   "metadata": {},
   "outputs": [
    {
     "output_type": "stream",
     "name": "stdout",
     "text": [
      "Found 2002 images belonging to 2 classes.\n"
     ]
    }
   ],
   "source": [
    "train_datagen = ImageDataGenerator(rescale = 1./255,\n",
    "                                   shear_range = 0.2,\n",
    "                                   zoom_range = 0.2,\n",
    "                                   horizontal_flip = True)\n",
    "training_set = train_datagen.flow_from_directory('E:\\\\ML\\\\CNN GenderD\\\\Train Set',\n",
    "                                                 target_size = (64, 64),\n",
    "                                                 batch_size = 32,\n",
    "                                                 class_mode = 'binary')"
   ]
  },
  {
   "cell_type": "code",
   "execution_count": 4,
   "metadata": {},
   "outputs": [
    {
     "output_type": "stream",
     "name": "stdout",
     "text": [
      "Found 555 images belonging to 2 classes.\n"
     ]
    }
   ],
   "source": [
    "test_datagen = ImageDataGenerator(rescale = 1./255)\n",
    "test_set = test_datagen.flow_from_directory('E:\\\\ML\\\\CNN GenderD\\\\Test Set',\n",
    "                                            target_size = (64,64),\n",
    "                                            batch_size = 32,\n",
    "                                            class_mode = 'binary')"
   ]
  },
  {
   "cell_type": "code",
   "execution_count": 5,
   "metadata": {},
   "outputs": [],
   "source": [
    "cnn = tf.keras.models.Sequential()"
   ]
  },
  {
   "cell_type": "code",
   "execution_count": 6,
   "metadata": {},
   "outputs": [],
   "source": [
    "cnn.add(tf.keras.layers.Conv2D(filters=64, kernel_size=3, activation='relu', input_shape=[64, 64, 3]))"
   ]
  },
  {
   "cell_type": "code",
   "execution_count": 7,
   "metadata": {},
   "outputs": [],
   "source": [
    "cnn.add(tf.keras.layers.MaxPool2D(pool_size=2, strides=2))"
   ]
  },
  {
   "cell_type": "code",
   "execution_count": 8,
   "metadata": {},
   "outputs": [],
   "source": [
    "cnn.add(tf.keras.layers.Conv2D(filters=64, kernel_size=3, activation='relu'))\n",
    "cnn.add(tf.keras.layers.MaxPool2D(pool_size=2, strides=2))"
   ]
  },
  {
   "cell_type": "code",
   "execution_count": 9,
   "metadata": {},
   "outputs": [],
   "source": [
    "cnn.add(tf.keras.layers.Flatten())"
   ]
  },
  {
   "cell_type": "code",
   "execution_count": 10,
   "metadata": {},
   "outputs": [],
   "source": [
    "cnn.add(tf.keras.layers.Dense(units=128, activation='relu'))"
   ]
  },
  {
   "cell_type": "code",
   "execution_count": 11,
   "metadata": {},
   "outputs": [],
   "source": [
    "cnn.add(tf.keras.layers.Dense(units=1, activation='sigmoid'))"
   ]
  },
  {
   "cell_type": "code",
   "execution_count": 12,
   "metadata": {},
   "outputs": [],
   "source": [
    "cnn.compile(optimizer = 'adam', loss = 'binary_crossentropy', metrics = ['accuracy'])"
   ]
  },
  {
   "cell_type": "code",
   "execution_count": 13,
   "metadata": {},
   "outputs": [
    {
     "output_type": "stream",
     "name": "stdout",
     "text": [
      "Epoch 1/25\n",
      "63/63 [==============================] - 12s 179ms/step - loss: 0.6990 - accuracy: 0.5606 - val_loss: 0.4230 - val_accuracy: 0.8252\n",
      "Epoch 2/25\n",
      "63/63 [==============================] - 11s 176ms/step - loss: 0.4322 - accuracy: 0.8003 - val_loss: 0.2584 - val_accuracy: 0.9027\n",
      "Epoch 3/25\n",
      "63/63 [==============================] - 12s 189ms/step - loss: 0.3048 - accuracy: 0.8643 - val_loss: 0.2232 - val_accuracy: 0.9135\n",
      "Epoch 4/25\n",
      "63/63 [==============================] - 12s 183ms/step - loss: 0.2736 - accuracy: 0.8778 - val_loss: 0.1669 - val_accuracy: 0.9351\n",
      "Epoch 5/25\n",
      "63/63 [==============================] - 12s 192ms/step - loss: 0.2348 - accuracy: 0.9008 - val_loss: 0.1858 - val_accuracy: 0.9315\n",
      "Epoch 6/25\n",
      "63/63 [==============================] - 13s 199ms/step - loss: 0.2058 - accuracy: 0.9217 - val_loss: 0.1960 - val_accuracy: 0.9297\n",
      "Epoch 7/25\n",
      "63/63 [==============================] - 13s 203ms/step - loss: 0.2113 - accuracy: 0.9157 - val_loss: 0.2700 - val_accuracy: 0.9009\n",
      "Epoch 8/25\n",
      "63/63 [==============================] - 11s 176ms/step - loss: 0.1830 - accuracy: 0.9271 - val_loss: 0.1206 - val_accuracy: 0.9640\n",
      "Epoch 9/25\n",
      "63/63 [==============================] - 11s 178ms/step - loss: 0.1887 - accuracy: 0.9267 - val_loss: 0.1995 - val_accuracy: 0.9243\n",
      "Epoch 10/25\n",
      "63/63 [==============================] - 10s 164ms/step - loss: 0.2162 - accuracy: 0.9157 - val_loss: 0.1278 - val_accuracy: 0.9514\n",
      "Epoch 11/25\n",
      "63/63 [==============================] - 10s 161ms/step - loss: 0.1394 - accuracy: 0.9537 - val_loss: 0.1168 - val_accuracy: 0.9550\n",
      "Epoch 12/25\n",
      "63/63 [==============================] - 11s 169ms/step - loss: 0.1567 - accuracy: 0.9363 - val_loss: 0.1521 - val_accuracy: 0.9459\n",
      "Epoch 13/25\n",
      "63/63 [==============================] - 10s 166ms/step - loss: 0.1670 - accuracy: 0.9286 - val_loss: 0.1219 - val_accuracy: 0.9604\n",
      "Epoch 14/25\n",
      "63/63 [==============================] - 11s 178ms/step - loss: 0.1380 - accuracy: 0.9469 - val_loss: 0.1367 - val_accuracy: 0.9514\n",
      "Epoch 15/25\n",
      "63/63 [==============================] - 11s 171ms/step - loss: 0.1636 - accuracy: 0.9331 - val_loss: 0.1030 - val_accuracy: 0.9622\n",
      "Epoch 16/25\n",
      "63/63 [==============================] - 11s 168ms/step - loss: 0.1270 - accuracy: 0.9502 - val_loss: 0.1479 - val_accuracy: 0.9532\n",
      "Epoch 17/25\n",
      "63/63 [==============================] - 10s 166ms/step - loss: 0.1378 - accuracy: 0.9454 - val_loss: 0.1136 - val_accuracy: 0.9514\n",
      "Epoch 18/25\n",
      "63/63 [==============================] - 10s 158ms/step - loss: 0.1568 - accuracy: 0.9424 - val_loss: 0.0877 - val_accuracy: 0.9730\n",
      "Epoch 19/25\n",
      "63/63 [==============================] - 10s 163ms/step - loss: 0.1254 - accuracy: 0.9525 - val_loss: 0.1010 - val_accuracy: 0.9568\n",
      "Epoch 20/25\n",
      "63/63 [==============================] - 10s 164ms/step - loss: 0.1245 - accuracy: 0.9483 - val_loss: 0.1228 - val_accuracy: 0.9604\n",
      "Epoch 21/25\n",
      "63/63 [==============================] - 10s 157ms/step - loss: 0.1167 - accuracy: 0.9540 - val_loss: 0.1014 - val_accuracy: 0.9640\n",
      "Epoch 22/25\n",
      "63/63 [==============================] - 10s 159ms/step - loss: 0.1189 - accuracy: 0.9545 - val_loss: 0.0977 - val_accuracy: 0.9658\n",
      "Epoch 23/25\n",
      "63/63 [==============================] - 11s 167ms/step - loss: 0.1001 - accuracy: 0.9586 - val_loss: 0.1001 - val_accuracy: 0.9640\n",
      "Epoch 24/25\n",
      "63/63 [==============================] - 12s 193ms/step - loss: 0.1138 - accuracy: 0.9548 - val_loss: 0.0772 - val_accuracy: 0.9766\n",
      "Epoch 25/25\n",
      "63/63 [==============================] - 12s 183ms/step - loss: 0.0848 - accuracy: 0.9698 - val_loss: 0.1335 - val_accuracy: 0.9568\n"
     ]
    },
    {
     "output_type": "execute_result",
     "data": {
      "text/plain": [
       "<tensorflow.python.keras.callbacks.History at 0x24a1c6bc5e0>"
      ]
     },
     "metadata": {},
     "execution_count": 13
    }
   ],
   "source": [
    "cnn.fit(x = training_set, validation_data = test_set, epochs = 25)"
   ]
  },
  {
   "cell_type": "code",
   "execution_count": 37,
   "metadata": {},
   "outputs": [
    {
     "output_type": "stream",
     "name": "stdout",
     "text": [
      "0.0\n"
     ]
    }
   ],
   "source": [
    "from keras.preprocessing import image\n",
    "test_image = image.load_img('E:/ML/trash/Test Set/Man/face_1231.jpg', target_size = (64, 64))\n",
    "test_image = image.img_to_array(test_image)\n",
    "test_image = np.expand_dims(test_image, axis = 0)\n",
    "result = cnn.predict(test_image)\n",
    "training_set.class_indices\n",
    "print(result[0][0])"
   ]
  },
  {
   "cell_type": "code",
   "execution_count": 38,
   "metadata": {},
   "outputs": [],
   "source": [
    "import cvlib as cv\n",
    "import cv2\n",
    "webcam = cv2.VideoCapture(0)  \n",
    "\n",
    "while webcam.isOpened():\n",
    "    status, frame = webcam.read()\n",
    "    face, confidence = cv.detect_face(frame)\n",
    "    for idx, f in enumerate(face):\n",
    "        (startX, startY) = f[0], f[1]\n",
    "        (endX, endY) = f[2], f[3]\n",
    "        cv2.rectangle(frame, (startX,startY), (endX,endY), (0,255,0), 2)\n",
    "        face_crop = np.copy(frame[startY:endY,startX:endX])\n",
    "        if (face_crop.shape[0]) < 10 or (face_crop.shape[1]) < 10:\n",
    "            continue\n",
    "        face_crop = cv2.resize(face_crop, (64,64))\n",
    "        face_crop = face_crop.astype(\"float\") / 255.0\n",
    "        face_crop = tf.keras.preprocessing.image.img_to_array(face_crop)\n",
    "        face_crop = np.expand_dims(face_crop, axis=0)\n",
    "        conf = cnn.predict(face_crop)\n",
    "        if conf[0][0] <= 0.5:\n",
    "            label = f\"man\"\n",
    "        else:\n",
    "            label = f\"woman\"\n",
    "        Y = startY - 10 if startY - 10 > 10 else startY + 10\n",
    "        cv2.putText(frame, label, (startX, Y),  cv2.FONT_HERSHEY_SIMPLEX, 0.7, (145, 155, 49), 2)\n",
    "    cv2.imshow(\"gender detection\", frame)\n",
    "    # press \"Q\" to stop\n",
    "    if cv2.waitKey(1) & 0xFF == ord('q'):\n",
    "        break\n",
    "\n",
    "webcam.release()\n",
    "cv2.destroyAllWindows()"
   ]
  }
 ]
}